{
 "cells": [
  {
   "cell_type": "markdown",
   "metadata": {
    "_uuid": "17cf7196a2323ffc230616f682495b611649a4ef"
   },
   "source": [
    "# Importing packages"
   ]
  },
  {
   "cell_type": "code",
   "execution_count": 1,
   "metadata": {
    "_uuid": "91d4502622f82bcbb57140967d261b454d9597cb",
    "execution": {
     "iopub.execute_input": "2022-03-31T10:31:59.271552Z",
     "iopub.status.busy": "2022-03-31T10:31:59.270793Z",
     "iopub.status.idle": "2022-03-31T10:31:59.601019Z",
     "shell.execute_reply": "2022-03-31T10:31:59.598982Z",
     "shell.execute_reply.started": "2022-03-31T10:31:59.271464Z"
    }
   },
   "outputs": [],
   "source": [
    "import pandas as pd\n",
    "import seaborn as sns\n",
    "import numpy as np\n",
    "import matplotlib.pyplot as plt"
   ]
  },
  {
   "cell_type": "code",
   "execution_count": 2,
   "metadata": {
    "_uuid": "f704cdf86b1e002eeeac236b97351900f6bbbcb3",
    "execution": {
     "iopub.execute_input": "2022-03-31T10:31:59.604570Z",
     "iopub.status.busy": "2022-03-31T10:31:59.603786Z",
     "iopub.status.idle": "2022-03-31T10:31:59.611652Z",
     "shell.execute_reply": "2022-03-31T10:31:59.609741Z",
     "shell.execute_reply.started": "2022-03-31T10:31:59.604274Z"
    }
   },
   "outputs": [],
   "source": [
    "datapath = \"../input/kc1_data.txt\""
   ]
  },
  {
   "cell_type": "markdown",
   "metadata": {
    "_uuid": "ebe49c43c7eeb6ad77a31ef310c40846375b6dcc"
   },
   "source": [
    "# Assign Column Names"
   ]
  },
  {
   "cell_type": "code",
   "execution_count": 3,
   "metadata": {
    "_uuid": "3a3a0b41a06d95ed1052dd345ac3fc5b9b6c0e87",
    "execution": {
     "iopub.execute_input": "2022-03-31T10:31:59.614925Z",
     "iopub.status.busy": "2022-03-31T10:31:59.613972Z",
     "iopub.status.idle": "2022-03-31T10:31:59.695883Z",
     "shell.execute_reply": "2022-03-31T10:31:59.693646Z",
     "shell.execute_reply.started": "2022-03-31T10:31:59.614832Z"
    }
   },
   "outputs": [],
   "source": [
    "df=pd.read_csv(datapath,sep=\",\",header=None,\n",
    "                 names=['log','v(g)','ev(g)','iv(g)'\n",
    "                        ,'n','v','l','d','i','e','b'\n",
    "                        ,'t','10Code','10Comment','10Blank'\n",
    "                        ,'10CodeAndComment','uniq_op','uniq_Opnd'\n",
    "                        ,'total_op','total_Opnd','branchCount'\n",
    "                        ,'problems'],encoding = 'latin')"
   ]
  },
  {
   "cell_type": "code",
   "execution_count": 4,
   "metadata": {
    "_uuid": "b601b48b5627635766f5d42bc02da0aed2116a57",
    "execution": {
     "iopub.execute_input": "2022-03-31T10:31:59.702855Z",
     "iopub.status.busy": "2022-03-31T10:31:59.699417Z",
     "iopub.status.idle": "2022-03-31T10:31:59.772952Z",
     "shell.execute_reply": "2022-03-31T10:31:59.772134Z",
     "shell.execute_reply.started": "2022-03-31T10:31:59.702719Z"
    }
   },
   "outputs": [],
   "source": [
    "df.head()"
   ]
  },
  {
   "cell_type": "markdown",
   "metadata": {
    "_uuid": "336209954a4099bde9d09c03e593cf628d55dfe1"
   },
   "source": [
    "# Data Pre-Processing"
   ]
  },
  {
   "cell_type": "code",
   "execution_count": 5,
   "metadata": {
    "_uuid": "6884fa117822994347408675c4594dff25f48528",
    "execution": {
     "iopub.execute_input": "2022-03-31T10:31:59.774942Z",
     "iopub.status.busy": "2022-03-31T10:31:59.774376Z",
     "iopub.status.idle": "2022-03-31T10:31:59.782389Z",
     "shell.execute_reply": "2022-03-31T10:31:59.781467Z",
     "shell.execute_reply.started": "2022-03-31T10:31:59.774889Z"
    }
   },
   "outputs": [],
   "source": [
    "df.columns"
   ]
  },
  {
   "cell_type": "markdown",
   "metadata": {
    "_uuid": "6d4393cc8f3d430eb948feaaf8b686551b887b8b"
   },
   "source": [
    "We have 21 independent variables and 1 target variable, i.e. problems in the dataset."
   ]
  },
  {
   "cell_type": "markdown",
   "metadata": {
    "_uuid": "d3fc9f248644b6d1d4e070091b479dd987189d64"
   },
   "source": [
    "# Print the data types"
   ]
  },
  {
   "cell_type": "code",
   "execution_count": 6,
   "metadata": {
    "_uuid": "b3b69c9323da3f1a30fb0f2b62d59542cdbc7101",
    "execution": {
     "iopub.execute_input": "2022-03-31T10:31:59.784777Z",
     "iopub.status.busy": "2022-03-31T10:31:59.784081Z",
     "iopub.status.idle": "2022-03-31T10:31:59.798418Z",
     "shell.execute_reply": "2022-03-31T10:31:59.796695Z",
     "shell.execute_reply.started": "2022-03-31T10:31:59.784645Z"
    }
   },
   "outputs": [],
   "source": [
    "df.dtypes"
   ]
  },
  {
   "cell_type": "markdown",
   "metadata": {
    "_uuid": "4a65ee6f4c05285a8ba24a523b91d0f4ca817b6d"
   },
   "source": [
    "# Data Shape"
   ]
  },
  {
   "cell_type": "code",
   "execution_count": 7,
   "metadata": {
    "_uuid": "2551c7223d108ea3d825d9df294a243040505a30",
    "execution": {
     "iopub.execute_input": "2022-03-31T10:31:59.801144Z",
     "iopub.status.busy": "2022-03-31T10:31:59.800520Z",
     "iopub.status.idle": "2022-03-31T10:31:59.809315Z",
     "shell.execute_reply": "2022-03-31T10:31:59.808139Z",
     "shell.execute_reply.started": "2022-03-31T10:31:59.801060Z"
    }
   },
   "outputs": [],
   "source": [
    "df.shape"
   ]
  },
  {
   "cell_type": "markdown",
   "metadata": {
    "_uuid": "b29e254f82806f11285d82a3f4cabe6d8c66653b"
   },
   "source": [
    "## Missing Values"
   ]
  },
  {
   "cell_type": "code",
   "execution_count": 8,
   "metadata": {
    "_uuid": "0cb2d410b39b1ca424e7cf34a805cc68688e4a68",
    "execution": {
     "iopub.execute_input": "2022-03-31T10:31:59.812198Z",
     "iopub.status.busy": "2022-03-31T10:31:59.811446Z",
     "iopub.status.idle": "2022-03-31T10:31:59.826766Z",
     "shell.execute_reply": "2022-03-31T10:31:59.825378Z",
     "shell.execute_reply.started": "2022-03-31T10:31:59.812093Z"
    }
   },
   "outputs": [],
   "source": [
    "df.isnull().sum()"
   ]
  },
  {
   "cell_type": "markdown",
   "metadata": {
    "_uuid": "a2e5be50bdb4dbd20273004c0948015e4634fa32"
   },
   "source": [
    "No missing value."
   ]
  },
  {
   "cell_type": "code",
   "execution_count": 9,
   "metadata": {
    "_uuid": "9b05a86f08357f3846dbdb84716921c715ab56ad",
    "execution": {
     "iopub.execute_input": "2022-03-31T10:31:59.830247Z",
     "iopub.status.busy": "2022-03-31T10:31:59.829480Z",
     "iopub.status.idle": "2022-03-31T10:31:59.837726Z",
     "shell.execute_reply": "2022-03-31T10:31:59.836800Z",
     "shell.execute_reply.started": "2022-03-31T10:31:59.830167Z"
    }
   },
   "outputs": [],
   "source": [
    "X =df.drop([\"problems\"],axis=1)"
   ]
  },
  {
   "cell_type": "code",
   "execution_count": 10,
   "metadata": {
    "_uuid": "1df0984af1f3b3ff273a926cb6769961d2f49be4",
    "execution": {
     "iopub.execute_input": "2022-03-31T10:31:59.840321Z",
     "iopub.status.busy": "2022-03-31T10:31:59.839427Z",
     "iopub.status.idle": "2022-03-31T10:31:59.901762Z",
     "shell.execute_reply": "2022-03-31T10:31:59.900786Z",
     "shell.execute_reply.started": "2022-03-31T10:31:59.840244Z"
    }
   },
   "outputs": [],
   "source": [
    "X.head()"
   ]
  },
  {
   "cell_type": "code",
   "execution_count": 11,
   "metadata": {
    "_uuid": "1150de1b1f1d5f4727b8c0aba12ca37805c0227f",
    "execution": {
     "iopub.execute_input": "2022-03-31T10:31:59.906016Z",
     "iopub.status.busy": "2022-03-31T10:31:59.905426Z",
     "iopub.status.idle": "2022-03-31T10:31:59.912998Z",
     "shell.execute_reply": "2022-03-31T10:31:59.911822Z",
     "shell.execute_reply.started": "2022-03-31T10:31:59.905935Z"
    }
   },
   "outputs": [],
   "source": [
    "y = df[[\"problems\"]]"
   ]
  },
  {
   "cell_type": "code",
   "execution_count": 12,
   "metadata": {
    "_uuid": "f4214daf822be1204453dad54630011f76487cbe",
    "execution": {
     "iopub.execute_input": "2022-03-31T10:31:59.915814Z",
     "iopub.status.busy": "2022-03-31T10:31:59.914815Z",
     "iopub.status.idle": "2022-03-31T10:31:59.934626Z",
     "shell.execute_reply": "2022-03-31T10:31:59.933358Z",
     "shell.execute_reply.started": "2022-03-31T10:31:59.915714Z"
    }
   },
   "outputs": [],
   "source": [
    "y.head()"
   ]
  },
  {
   "cell_type": "markdown",
   "metadata": {},
   "source": [
    "# Removing Outliers"
   ]
  },
  {
   "cell_type": "code",
   "execution_count": 13,
   "metadata": {
    "execution": {
     "iopub.execute_input": "2022-03-31T10:31:59.937618Z",
     "iopub.status.busy": "2022-03-31T10:31:59.936834Z",
     "iopub.status.idle": "2022-03-31T10:32:06.469806Z",
     "shell.execute_reply": "2022-03-31T10:32:06.468996Z",
     "shell.execute_reply.started": "2022-03-31T10:31:59.937542Z"
    }
   },
   "outputs": [],
   "source": [
    "columns = ['log', 'v(g)', 'ev(g)', 'iv(g)', 'n', 'v', 'l', 'd', 'i', 'e', 'b', 't','10Code', '10Comment', '10Blank', '10CodeAndComment', 'uniq_op','uniq_Opnd', 'total_op', 'total_Opnd', 'branchCount']\n",
    "\n",
    "for column in columns:\n",
    "    plt.figure(figsize=(16,5))\n",
    "    plt.subplot(1,2,1)\n",
    "    sns.distplot(df[column])\n",
    "    plt.show()\n"
   ]
  },
  {
   "cell_type": "code",
   "execution_count": 14,
   "metadata": {
    "execution": {
     "iopub.execute_input": "2022-03-31T10:32:06.472161Z",
     "iopub.status.busy": "2022-03-31T10:32:06.471471Z",
     "iopub.status.idle": "2022-03-31T10:32:06.483434Z",
     "shell.execute_reply": "2022-03-31T10:32:06.481654Z",
     "shell.execute_reply.started": "2022-03-31T10:32:06.472073Z"
    }
   },
   "outputs": [],
   "source": [
    "print(\"Highest allowed\",df['log'].mean() + 3*df['log'].std())\n",
    "print(\"Lowest allowed\",df['log'].mean() - 3*df['log'].std())"
   ]
  },
  {
   "cell_type": "code",
   "execution_count": 15,
   "metadata": {
    "execution": {
     "iopub.execute_input": "2022-03-31T10:32:06.488655Z",
     "iopub.status.busy": "2022-03-31T10:32:06.486809Z",
     "iopub.status.idle": "2022-03-31T10:32:06.604573Z",
     "shell.execute_reply": "2022-03-31T10:32:06.603504Z",
     "shell.execute_reply.started": "2022-03-31T10:32:06.487254Z"
    }
   },
   "outputs": [],
   "source": [
    "df[(df['log'] > 8.80) | (df['log'] < 5.11)]"
   ]
  },
  {
   "cell_type": "code",
   "execution_count": 16,
   "metadata": {
    "execution": {
     "iopub.execute_input": "2022-03-31T10:32:06.606968Z",
     "iopub.status.busy": "2022-03-31T10:32:06.606333Z",
     "iopub.status.idle": "2022-03-31T10:32:06.619566Z",
     "shell.execute_reply": "2022-03-31T10:32:06.617857Z",
     "shell.execute_reply.started": "2022-03-31T10:32:06.606897Z"
    }
   },
   "outputs": [],
   "source": [
    "df = df[(df['log'] < 8.80) & (df['log'] > 5.11)]\n",
    "upper_limit = df['log'].mean() + 3*df['log'].std()\n",
    "lower_limit = df['log'].mean() - 3*df['log'].std()"
   ]
  },
  {
   "cell_type": "code",
   "execution_count": 17,
   "metadata": {
    "execution": {
     "iopub.execute_input": "2022-03-31T10:32:06.622527Z",
     "iopub.status.busy": "2022-03-31T10:32:06.621679Z",
     "iopub.status.idle": "2022-03-31T10:32:06.787243Z",
     "shell.execute_reply": "2022-03-31T10:32:06.786035Z",
     "shell.execute_reply.started": "2022-03-31T10:32:06.622129Z"
    }
   },
   "outputs": [],
   "source": [
    "df['log'] = np.where(\n",
    "    df['log']>upper_limit,\n",
    "    upper_limit,\n",
    "    np.where(\n",
    "        df['log']<lower_limit,\n",
    "        lower_limit,\n",
    "        df['log']\n",
    "    )\n",
    ")\n",
    "\n",
    "df['log'].describe()"
   ]
  },
  {
   "cell_type": "markdown",
   "metadata": {
    "_uuid": "a0302d897f724a5a2e622d823a07cc392487b161"
   },
   "source": [
    "# Split the data"
   ]
  },
  {
   "cell_type": "code",
   "execution_count": 18,
   "metadata": {
    "_uuid": "4d02cda0f67c3db7d6bd42e75feaaef240ff1015",
    "execution": {
     "iopub.execute_input": "2022-03-31T10:32:06.789173Z",
     "iopub.status.busy": "2022-03-31T10:32:06.788683Z",
     "iopub.status.idle": "2022-03-31T10:32:06.904261Z",
     "shell.execute_reply": "2022-03-31T10:32:06.903077Z",
     "shell.execute_reply.started": "2022-03-31T10:32:06.788964Z"
    }
   },
   "outputs": [],
   "source": [
    "from sklearn.model_selection import train_test_split"
   ]
  },
  {
   "cell_type": "code",
   "execution_count": 19,
   "metadata": {
    "_uuid": "56aa476cd28dda45399f29b8847c6ba179298862",
    "execution": {
     "iopub.execute_input": "2022-03-31T10:32:06.906299Z",
     "iopub.status.busy": "2022-03-31T10:32:06.905951Z",
     "iopub.status.idle": "2022-03-31T10:32:06.917496Z",
     "shell.execute_reply": "2022-03-31T10:32:06.916612Z",
     "shell.execute_reply.started": "2022-03-31T10:32:06.906240Z"
    }
   },
   "outputs": [],
   "source": [
    "x_train,x_test,y_train,y_test=train_test_split(X,y,test_size=0.3,random_state=1)"
   ]
  },
  {
   "cell_type": "markdown",
   "metadata": {
    "_uuid": "755564de7c2e2d719ae6b06e622cc6be2b42a49b"
   },
   "source": [
    "The dataset has been divided into training and validation part.\n",
    "\n",
    "70% data will use for train the model and rest of the 30% data will use for test the model."
   ]
  },
  {
   "cell_type": "markdown",
   "metadata": {
    "_uuid": "55edc639e98f7ce5976744c28c623cb7ac853429"
   },
   "source": [
    "# Size of train data"
   ]
  },
  {
   "cell_type": "code",
   "execution_count": 20,
   "metadata": {
    "_uuid": "0871f6d32d992c44dbdb98c2e7218e76f526b07c",
    "execution": {
     "iopub.execute_input": "2022-03-31T10:32:06.919622Z",
     "iopub.status.busy": "2022-03-31T10:32:06.919030Z",
     "iopub.status.idle": "2022-03-31T10:32:06.927660Z",
     "shell.execute_reply": "2022-03-31T10:32:06.926274Z",
     "shell.execute_reply.started": "2022-03-31T10:32:06.919537Z"
    }
   },
   "outputs": [],
   "source": [
    "x_train.shape  , y_train.shape"
   ]
  },
  {
   "cell_type": "markdown",
   "metadata": {
    "_uuid": "6e76d151fb30b1290354cdf5067829a52b01a369"
   },
   "source": [
    "# Size of test data"
   ]
  },
  {
   "cell_type": "code",
   "execution_count": 21,
   "metadata": {
    "_uuid": "ce1add630ee4257f9bf8b75d1502b3b56b39f702",
    "execution": {
     "iopub.execute_input": "2022-03-31T10:32:06.929495Z",
     "iopub.status.busy": "2022-03-31T10:32:06.929036Z",
     "iopub.status.idle": "2022-03-31T10:32:06.940809Z",
     "shell.execute_reply": "2022-03-31T10:32:06.939996Z",
     "shell.execute_reply.started": "2022-03-31T10:32:06.929446Z"
    }
   },
   "outputs": [],
   "source": [
    "x_test.shape , y_test.shape"
   ]
  },
  {
   "cell_type": "markdown",
   "metadata": {
    "_uuid": "4905bb59a587bb1cfff6f65797747404c5bb982b"
   },
   "source": [
    "# Applying SVM Classifier"
   ]
  },
  {
   "cell_type": "code",
   "execution_count": 22,
   "metadata": {
    "_uuid": "103f893e9ccd63e11b7097577330257a81a81417",
    "execution": {
     "iopub.execute_input": "2022-03-31T10:32:06.942673Z",
     "iopub.status.busy": "2022-03-31T10:32:06.942230Z",
     "iopub.status.idle": "2022-03-31T10:32:06.983970Z",
     "shell.execute_reply": "2022-03-31T10:32:06.983223Z",
     "shell.execute_reply.started": "2022-03-31T10:32:06.942618Z"
    }
   },
   "outputs": [],
   "source": [
    "from sklearn.svm import SVC\n",
    "from sklearn.metrics import accuracy_score"
   ]
  },
  {
   "cell_type": "code",
   "execution_count": 23,
   "metadata": {
    "_uuid": "b2f3cffc4aaf56f91e0e32b035bb3810a8515a27",
    "execution": {
     "iopub.execute_input": "2022-03-31T10:32:06.985421Z",
     "iopub.status.busy": "2022-03-31T10:32:06.985005Z",
     "iopub.status.idle": "2022-03-31T10:32:06.989026Z",
     "shell.execute_reply": "2022-03-31T10:32:06.988294Z",
     "shell.execute_reply.started": "2022-03-31T10:32:06.985376Z"
    }
   },
   "outputs": [],
   "source": [
    "svc_model = SVC()"
   ]
  },
  {
   "cell_type": "code",
   "execution_count": 24,
   "metadata": {
    "_uuid": "9e8e6c3dda5f50a3043d1839e720b3f4c3455f0f",
    "execution": {
     "iopub.execute_input": "2022-03-31T10:32:06.990512Z",
     "iopub.status.busy": "2022-03-31T10:32:06.990091Z",
     "iopub.status.idle": "2022-03-31T10:32:07.109993Z",
     "shell.execute_reply": "2022-03-31T10:32:07.109042Z",
     "shell.execute_reply.started": "2022-03-31T10:32:06.990467Z"
    }
   },
   "outputs": [],
   "source": [
    "svc_model.fit(x_train,y_train)"
   ]
  },
  {
   "cell_type": "code",
   "execution_count": 25,
   "metadata": {
    "_uuid": "0678da6e15672bfe313b3017f25e152cf4320cb9",
    "execution": {
     "iopub.execute_input": "2022-03-31T10:32:07.112064Z",
     "iopub.status.busy": "2022-03-31T10:32:07.111535Z",
     "iopub.status.idle": "2022-03-31T10:32:07.142661Z",
     "shell.execute_reply": "2022-03-31T10:32:07.141697Z",
     "shell.execute_reply.started": "2022-03-31T10:32:07.112003Z"
    }
   },
   "outputs": [],
   "source": [
    "svc_pred = svc_model.predict(x_test)"
   ]
  },
  {
   "cell_type": "code",
   "execution_count": 26,
   "metadata": {
    "_uuid": "3b035489849cbac1c94a979d6d1002592d837202",
    "execution": {
     "iopub.execute_input": "2022-03-31T10:32:07.144279Z",
     "iopub.status.busy": "2022-03-31T10:32:07.143903Z",
     "iopub.status.idle": "2022-03-31T10:32:07.149729Z",
     "shell.execute_reply": "2022-03-31T10:32:07.148683Z",
     "shell.execute_reply.started": "2022-03-31T10:32:07.144188Z"
    }
   },
   "outputs": [],
   "source": [
    "svc_score = accuracy_score(svc_pred,y_test)*100"
   ]
  },
  {
   "cell_type": "code",
   "execution_count": 27,
   "metadata": {
    "_uuid": "ce2d263badf50da68527da189c159c0068c445aa",
    "execution": {
     "iopub.execute_input": "2022-03-31T10:32:07.152629Z",
     "iopub.status.busy": "2022-03-31T10:32:07.151972Z",
     "iopub.status.idle": "2022-03-31T10:32:07.163570Z",
     "shell.execute_reply": "2022-03-31T10:32:07.162285Z",
     "shell.execute_reply.started": "2022-03-31T10:32:07.152559Z"
    }
   },
   "outputs": [],
   "source": [
    "svc_score"
   ]
  },
  {
   "cell_type": "markdown",
   "metadata": {
    "_uuid": "e2bee5f1d94c52fde84f178aa8e561f3e8112a8e"
   },
   "source": [
    "# Applying Naive Bayes Classifier"
   ]
  },
  {
   "cell_type": "code",
   "execution_count": 28,
   "metadata": {
    "_uuid": "d67f534088012c38634279f4be838aff234b9fc0",
    "execution": {
     "iopub.execute_input": "2022-03-31T10:32:07.165296Z",
     "iopub.status.busy": "2022-03-31T10:32:07.164961Z",
     "iopub.status.idle": "2022-03-31T10:32:07.174011Z",
     "shell.execute_reply": "2022-03-31T10:32:07.173184Z",
     "shell.execute_reply.started": "2022-03-31T10:32:07.165239Z"
    }
   },
   "outputs": [],
   "source": [
    "from sklearn.naive_bayes import GaussianNB"
   ]
  },
  {
   "cell_type": "code",
   "execution_count": 29,
   "metadata": {
    "_uuid": "477339aa1ee2e42ee7ed891f607725a4249c3b01",
    "execution": {
     "iopub.execute_input": "2022-03-31T10:32:07.176049Z",
     "iopub.status.busy": "2022-03-31T10:32:07.175472Z",
     "iopub.status.idle": "2022-03-31T10:32:07.188465Z",
     "shell.execute_reply": "2022-03-31T10:32:07.187385Z",
     "shell.execute_reply.started": "2022-03-31T10:32:07.175979Z"
    }
   },
   "outputs": [],
   "source": [
    "naive_bayes_model = GaussianNB()"
   ]
  },
  {
   "cell_type": "code",
   "execution_count": 30,
   "metadata": {
    "_uuid": "fabc8a8cea45aebc6fdbbe20f34dc545bb2bfcc1",
    "execution": {
     "iopub.execute_input": "2022-03-31T10:32:07.190602Z",
     "iopub.status.busy": "2022-03-31T10:32:07.190033Z",
     "iopub.status.idle": "2022-03-31T10:32:07.205517Z",
     "shell.execute_reply": "2022-03-31T10:32:07.204429Z",
     "shell.execute_reply.started": "2022-03-31T10:32:07.190551Z"
    }
   },
   "outputs": [],
   "source": [
    "naive_bayes_model.fit(x_train,y_train)"
   ]
  },
  {
   "cell_type": "code",
   "execution_count": 31,
   "metadata": {
    "_uuid": "79d0c4effeb945a9292c62df34955e1dad64358c",
    "execution": {
     "iopub.execute_input": "2022-03-31T10:32:07.207860Z",
     "iopub.status.busy": "2022-03-31T10:32:07.206918Z",
     "iopub.status.idle": "2022-03-31T10:32:07.214345Z",
     "shell.execute_reply": "2022-03-31T10:32:07.213225Z",
     "shell.execute_reply.started": "2022-03-31T10:32:07.207385Z"
    }
   },
   "outputs": [],
   "source": [
    "naive_bayes_pred = naive_bayes_model.predict(x_test)"
   ]
  },
  {
   "cell_type": "code",
   "execution_count": 32,
   "metadata": {
    "_uuid": "06c51553f9ac202fe66f93a0131b21b51b5ca8e1",
    "execution": {
     "iopub.execute_input": "2022-03-31T10:32:07.216251Z",
     "iopub.status.busy": "2022-03-31T10:32:07.215759Z",
     "iopub.status.idle": "2022-03-31T10:32:07.231650Z",
     "shell.execute_reply": "2022-03-31T10:32:07.230579Z",
     "shell.execute_reply.started": "2022-03-31T10:32:07.216173Z"
    }
   },
   "outputs": [],
   "source": [
    "naive_bayes_score = accuracy_score(naive_bayes_pred,y_test)*100"
   ]
  },
  {
   "cell_type": "code",
   "execution_count": 33,
   "metadata": {
    "_uuid": "a84915dd67b9784f19dd28b3a2d4a387ccc114ca",
    "execution": {
     "iopub.execute_input": "2022-03-31T10:32:07.233287Z",
     "iopub.status.busy": "2022-03-31T10:32:07.232819Z",
     "iopub.status.idle": "2022-03-31T10:32:07.248235Z",
     "shell.execute_reply": "2022-03-31T10:32:07.246491Z",
     "shell.execute_reply.started": "2022-03-31T10:32:07.233229Z"
    }
   },
   "outputs": [],
   "source": [
    "naive_bayes_score"
   ]
  },
  {
   "cell_type": "markdown",
   "metadata": {
    "_uuid": "09267d56bfa861fa353760ab2e87133eb3d9b586"
   },
   "source": [
    "After applying Naive Bayes our predictions are almost 83% accurate, i.e. we have identified 83% of the problems correctly for our Naive Bayes classifier model"
   ]
  },
  {
   "cell_type": "markdown",
   "metadata": {
    "_uuid": "c05b1bd54893e9013b8983e2eea728b4e144ae6d"
   },
   "source": [
    "# Applying SVM Classifier with K fold cross validation"
   ]
  },
  {
   "cell_type": "code",
   "execution_count": 34,
   "metadata": {
    "_uuid": "73c8052166a0c46439eedb6a1e9adb88cd4bea5f",
    "execution": {
     "iopub.execute_input": "2022-03-31T10:32:07.250503Z",
     "iopub.status.busy": "2022-03-31T10:32:07.249902Z",
     "iopub.status.idle": "2022-03-31T10:32:07.259478Z",
     "shell.execute_reply": "2022-03-31T10:32:07.258310Z",
     "shell.execute_reply.started": "2022-03-31T10:32:07.250447Z"
    }
   },
   "outputs": [],
   "source": [
    "from sklearn.model_selection import cross_val_score\n",
    "from sklearn.model_selection import KFold"
   ]
  },
  {
   "cell_type": "code",
   "execution_count": 35,
   "metadata": {
    "_uuid": "19779e5b4799a1e5c522d64125950af9a23872b1",
    "execution": {
     "iopub.execute_input": "2022-03-31T10:32:07.261141Z",
     "iopub.status.busy": "2022-03-31T10:32:07.260713Z",
     "iopub.status.idle": "2022-03-31T10:32:07.273592Z",
     "shell.execute_reply": "2022-03-31T10:32:07.272542Z",
     "shell.execute_reply.started": "2022-03-31T10:32:07.261074Z"
    }
   },
   "outputs": [],
   "source": [
    "k_fold = KFold(len(df), shuffle=True, random_state=0)"
   ]
  },
  {
   "cell_type": "code",
   "execution_count": 36,
   "metadata": {
    "_uuid": "d52b84e1854e7eedf8343c8989741444a424a783",
    "execution": {
     "iopub.execute_input": "2022-03-31T10:32:07.275570Z",
     "iopub.status.busy": "2022-03-31T10:32:07.275219Z",
     "iopub.status.idle": "2022-03-31T10:32:07.287577Z",
     "shell.execute_reply": "2022-03-31T10:32:07.286559Z",
     "shell.execute_reply.started": "2022-03-31T10:32:07.275514Z"
    }
   },
   "outputs": [],
   "source": [
    "svc_cv_model = SVC()"
   ]
  },
  {
   "cell_type": "code",
   "execution_count": 37,
   "metadata": {
    "_uuid": "68ea831d1e04cfc3b6cb818dda51ed653e7bde75",
    "execution": {
     "iopub.execute_input": "2022-03-31T10:32:07.289408Z",
     "iopub.status.busy": "2022-03-31T10:32:07.289045Z",
     "iopub.status.idle": "2022-03-31T10:32:32.568057Z",
     "shell.execute_reply": "2022-03-31T10:32:32.567264Z",
     "shell.execute_reply.started": "2022-03-31T10:32:07.289346Z"
    }
   },
   "outputs": [],
   "source": [
    "svc_cv_score = cross_val_score(svc_cv_model,X,y,cv=k_fold,scoring = 'accuracy')*100"
   ]
  },
  {
   "cell_type": "code",
   "execution_count": 38,
   "metadata": {
    "_uuid": "e7dda8172630a3a56654830c838802d3ae531530",
    "execution": {
     "iopub.execute_input": "2022-03-31T10:32:32.569816Z",
     "iopub.status.busy": "2022-03-31T10:32:32.569557Z",
     "iopub.status.idle": "2022-03-31T10:32:32.578797Z",
     "shell.execute_reply": "2022-03-31T10:32:32.577884Z",
     "shell.execute_reply.started": "2022-03-31T10:32:32.569764Z"
    }
   },
   "outputs": [],
   "source": [
    "svc_cv_score"
   ]
  },
  {
   "cell_type": "code",
   "execution_count": 39,
   "metadata": {
    "_uuid": "d441515cb327efa89bf5059012a9555e041d6b21",
    "execution": {
     "iopub.execute_input": "2022-03-31T10:32:32.580695Z",
     "iopub.status.busy": "2022-03-31T10:32:32.580437Z",
     "iopub.status.idle": "2022-03-31T10:32:32.592678Z",
     "shell.execute_reply": "2022-03-31T10:32:32.591428Z",
     "shell.execute_reply.started": "2022-03-31T10:32:32.580648Z"
    }
   },
   "outputs": [],
   "source": [
    "svc_cv_score.mean()"
   ]
  },
  {
   "cell_type": "markdown",
   "metadata": {
    "_uuid": "0a4ca6d300385ce130e9cb11f9e7779f31ca741d"
   },
   "source": [
    "After applying k fold cross validatin our predictions are almost 85% accurate, i.e. we have identified 85% of the problems correctly for our SVM classifier model."
   ]
  },
  {
   "cell_type": "markdown",
   "metadata": {
    "_uuid": "f1bfbec9bee5a887799d86b455bb314adb8377c1"
   },
   "source": [
    "# Applying Naive Bayes Classifier with K fold cross validation"
   ]
  },
  {
   "cell_type": "code",
   "execution_count": 40,
   "metadata": {
    "_uuid": "ae94efab3fe502c9ff3945e4da49a7df5c375b10",
    "execution": {
     "iopub.execute_input": "2022-03-31T10:32:32.594223Z",
     "iopub.status.busy": "2022-03-31T10:32:32.593866Z",
     "iopub.status.idle": "2022-03-31T10:32:32.602561Z",
     "shell.execute_reply": "2022-03-31T10:32:32.601556Z",
     "shell.execute_reply.started": "2022-03-31T10:32:32.594172Z"
    }
   },
   "outputs": [],
   "source": [
    "naive_bayes_cv_model = GaussianNB()"
   ]
  },
  {
   "cell_type": "code",
   "execution_count": 41,
   "metadata": {
    "_uuid": "3397f4dff7c69f8305228c201d0e9f191b00a722",
    "execution": {
     "iopub.execute_input": "2022-03-31T10:32:32.604238Z",
     "iopub.status.busy": "2022-03-31T10:32:32.603973Z",
     "iopub.status.idle": "2022-03-31T10:32:33.475710Z",
     "shell.execute_reply": "2022-03-31T10:32:33.474871Z",
     "shell.execute_reply.started": "2022-03-31T10:32:32.604197Z"
    }
   },
   "outputs": [],
   "source": [
    "naive_bayes_cv_score = cross_val_score(naive_bayes_cv_model,X,y,cv=k_fold,scoring = 'accuracy')*100"
   ]
  },
  {
   "cell_type": "code",
   "execution_count": 42,
   "metadata": {
    "_uuid": "d9e642457a7389f390e1a3abe79f199529730c20",
    "execution": {
     "iopub.execute_input": "2022-03-31T10:32:33.477491Z",
     "iopub.status.busy": "2022-03-31T10:32:33.477111Z",
     "iopub.status.idle": "2022-03-31T10:32:33.485928Z",
     "shell.execute_reply": "2022-03-31T10:32:33.484951Z",
     "shell.execute_reply.started": "2022-03-31T10:32:33.477357Z"
    }
   },
   "outputs": [],
   "source": [
    "naive_bayes_cv_score"
   ]
  },
  {
   "cell_type": "code",
   "execution_count": 43,
   "metadata": {
    "_uuid": "ec408f0b03d4653db901044fb4d52c468beefec8",
    "execution": {
     "iopub.execute_input": "2022-03-31T10:32:33.487757Z",
     "iopub.status.busy": "2022-03-31T10:32:33.487385Z",
     "iopub.status.idle": "2022-03-31T10:32:33.500441Z",
     "shell.execute_reply": "2022-03-31T10:32:33.499292Z",
     "shell.execute_reply.started": "2022-03-31T10:32:33.487693Z"
    }
   },
   "outputs": [],
   "source": [
    "naive_bayes_cv_score.mean()"
   ]
  },
  {
   "cell_type": "markdown",
   "metadata": {
    "_uuid": "27c0d762a043925473e3f8beee39304dd7021417"
   },
   "source": [
    "After applying k fold cross validatin our predictions are almost 82% accurate."
   ]
  },
  {
   "cell_type": "code",
   "execution_count": 44,
   "metadata": {
    "_uuid": "74649ff450694fd226785214f11d7027f5a15d14",
    "execution": {
     "iopub.execute_input": "2022-03-31T10:32:33.502315Z",
     "iopub.status.busy": "2022-03-31T10:32:33.501901Z",
     "iopub.status.idle": "2022-03-31T10:32:33.516450Z",
     "shell.execute_reply": "2022-03-31T10:32:33.515290Z",
     "shell.execute_reply.started": "2022-03-31T10:32:33.502239Z"
    }
   },
   "outputs": [],
   "source": [
    "naive_bayes_cv_model.fit(X,y)"
   ]
  },
  {
   "cell_type": "code",
   "execution_count": 45,
   "metadata": {
    "_uuid": "057c0e99c4f0c2c50cb970a69d84b7b1d4d90100",
    "execution": {
     "iopub.execute_input": "2022-03-31T10:32:33.518044Z",
     "iopub.status.busy": "2022-03-31T10:32:33.517721Z",
     "iopub.status.idle": "2022-03-31T10:32:33.526112Z",
     "shell.execute_reply": "2022-03-31T10:32:33.525280Z",
     "shell.execute_reply.started": "2022-03-31T10:32:33.517968Z"
    }
   },
   "outputs": [],
   "source": [
    "naive_bayes_cv_pred = naive_bayes_cv_model.predict(X)"
   ]
  },
  {
   "cell_type": "code",
   "execution_count": 46,
   "metadata": {
    "_uuid": "8ebf0ed6500a184d9ef6f558e8e153c578a7d8c8",
    "execution": {
     "iopub.execute_input": "2022-03-31T10:32:33.527718Z",
     "iopub.status.busy": "2022-03-31T10:32:33.527392Z",
     "iopub.status.idle": "2022-03-31T10:32:33.536073Z",
     "shell.execute_reply": "2022-03-31T10:32:33.535265Z",
     "shell.execute_reply.started": "2022-03-31T10:32:33.527662Z"
    }
   },
   "outputs": [],
   "source": [
    "naive_bayes_cv_score = accuracy_score(naive_bayes_cv_pred,y)*100"
   ]
  },
  {
   "cell_type": "code",
   "execution_count": 47,
   "metadata": {
    "_uuid": "293dc60afc885c3ff482fd75b62a108cb04b8b2b",
    "execution": {
     "iopub.execute_input": "2022-03-31T10:32:33.538000Z",
     "iopub.status.busy": "2022-03-31T10:32:33.537464Z",
     "iopub.status.idle": "2022-03-31T10:32:33.547697Z",
     "shell.execute_reply": "2022-03-31T10:32:33.546580Z",
     "shell.execute_reply.started": "2022-03-31T10:32:33.537941Z"
    }
   },
   "outputs": [],
   "source": [
    "naive_bayes_cv_score"
   ]
  },
  {
   "cell_type": "markdown",
   "metadata": {
    "_uuid": "7ae1e69f6c15a323b7a34889fa74dbdcb3339ba8"
   },
   "source": [
    "# Decision Tree"
   ]
  },
  {
   "cell_type": "code",
   "execution_count": 48,
   "metadata": {
    "_uuid": "0c46bf5c0b1aa9d335445b5eb7b79fa494a3bdef",
    "execution": {
     "iopub.execute_input": "2022-03-31T10:32:33.550407Z",
     "iopub.status.busy": "2022-03-31T10:32:33.549692Z",
     "iopub.status.idle": "2022-03-31T10:32:33.562812Z",
     "shell.execute_reply": "2022-03-31T10:32:33.562015Z",
     "shell.execute_reply.started": "2022-03-31T10:32:33.550342Z"
    }
   },
   "outputs": [],
   "source": [
    "from sklearn.tree import DecisionTreeClassifier"
   ]
  },
  {
   "cell_type": "code",
   "execution_count": 49,
   "metadata": {
    "_uuid": "f0b954d89a2527a548de566036c5865b10659660",
    "execution": {
     "iopub.execute_input": "2022-03-31T10:32:33.565406Z",
     "iopub.status.busy": "2022-03-31T10:32:33.564440Z",
     "iopub.status.idle": "2022-03-31T10:32:33.570501Z",
     "shell.execute_reply": "2022-03-31T10:32:33.569641Z",
     "shell.execute_reply.started": "2022-03-31T10:32:33.565308Z"
    }
   },
   "outputs": [],
   "source": [
    "tree_model = DecisionTreeClassifier()"
   ]
  },
  {
   "cell_type": "code",
   "execution_count": 50,
   "metadata": {
    "_uuid": "9673d3c77f1042198fd77aa70549451cf45f48f3",
    "execution": {
     "iopub.execute_input": "2022-03-31T10:32:33.572133Z",
     "iopub.status.busy": "2022-03-31T10:32:33.571848Z",
     "iopub.status.idle": "2022-03-31T10:32:37.086660Z",
     "shell.execute_reply": "2022-03-31T10:32:37.085679Z",
     "shell.execute_reply.started": "2022-03-31T10:32:33.572069Z"
    }
   },
   "outputs": [],
   "source": [
    "tree_cv_score = cross_val_score(tree_model,X,y,cv=k_fold,scoring = 'accuracy')*100"
   ]
  },
  {
   "cell_type": "code",
   "execution_count": 51,
   "metadata": {
    "_uuid": "bba564bcfa9075c018e030039c15b9f119a488db",
    "execution": {
     "iopub.execute_input": "2022-03-31T10:32:37.088261Z",
     "iopub.status.busy": "2022-03-31T10:32:37.087967Z",
     "iopub.status.idle": "2022-03-31T10:32:37.096743Z",
     "shell.execute_reply": "2022-03-31T10:32:37.095889Z",
     "shell.execute_reply.started": "2022-03-31T10:32:37.088208Z"
    }
   },
   "outputs": [],
   "source": [
    "tree_cv_score"
   ]
  },
  {
   "cell_type": "code",
   "execution_count": 52,
   "metadata": {
    "execution": {
     "iopub.execute_input": "2022-03-31T10:32:37.098213Z",
     "iopub.status.busy": "2022-03-31T10:32:37.097939Z",
     "iopub.status.idle": "2022-03-31T10:32:37.122929Z",
     "shell.execute_reply": "2022-03-31T10:32:37.122177Z",
     "shell.execute_reply.started": "2022-03-31T10:32:37.098162Z"
    }
   },
   "outputs": [],
   "source": [
    "# Create Decision Tree classifer object\n",
    "clf = DecisionTreeClassifier()\n",
    "\n",
    "# Train Decision Tree Classifer\n",
    "clf = clf.fit(x_train,y_train)\n",
    "\n",
    "#Predict the response for test dataset\n",
    "y_pred = clf.predict(x_test)"
   ]
  },
  {
   "cell_type": "code",
   "execution_count": 53,
   "metadata": {
    "execution": {
     "iopub.execute_input": "2022-03-31T10:32:37.124488Z",
     "iopub.status.busy": "2022-03-31T10:32:37.124198Z",
     "iopub.status.idle": "2022-03-31T10:32:37.130338Z",
     "shell.execute_reply": "2022-03-31T10:32:37.129606Z",
     "shell.execute_reply.started": "2022-03-31T10:32:37.124433Z"
    }
   },
   "outputs": [],
   "source": [
    "# Model Accuracy, how often is the classifier correct?\n",
    "from sklearn.metrics import accuracy_score \n",
    "import sklearn.metrics as metrics\n",
    "print(\"Accuracy:\",metrics.accuracy_score(y_test, y_pred))"
   ]
  },
  {
   "cell_type": "code",
   "execution_count": 54,
   "metadata": {
    "execution": {
     "iopub.execute_input": "2022-03-31T10:32:37.131842Z",
     "iopub.status.busy": "2022-03-31T10:32:37.131440Z",
     "iopub.status.idle": "2022-03-31T10:32:37.144929Z",
     "shell.execute_reply": "2022-03-31T10:32:37.143944Z",
     "shell.execute_reply.started": "2022-03-31T10:32:37.131791Z"
    }
   },
   "outputs": [],
   "source": [
    "#label encoding\n",
    "from sklearn import preprocessing\n",
    "le = preprocessing.LabelEncoder()\n",
    "target = df['log']\n",
    "target = le.fit_transform(target)\n",
    "target"
   ]
  },
  {
   "cell_type": "code",
   "execution_count": 55,
   "metadata": {
    "execution": {
     "iopub.execute_input": "2022-03-31T10:32:37.146956Z",
     "iopub.status.busy": "2022-03-31T10:32:37.146579Z",
     "iopub.status.idle": "2022-03-31T10:32:37.154998Z",
     "shell.execute_reply": "2022-03-31T10:32:37.154044Z",
     "shell.execute_reply.started": "2022-03-31T10:32:37.146885Z"
    }
   },
   "outputs": [],
   "source": [
    "y = target"
   ]
  },
  {
   "cell_type": "code",
   "execution_count": 56,
   "metadata": {
    "execution": {
     "iopub.execute_input": "2022-03-31T10:32:37.156996Z",
     "iopub.status.busy": "2022-03-31T10:32:37.156377Z",
     "iopub.status.idle": "2022-03-31T10:32:37.168738Z",
     "shell.execute_reply": "2022-03-31T10:32:37.167809Z",
     "shell.execute_reply.started": "2022-03-31T10:32:37.156613Z"
    }
   },
   "outputs": [],
   "source": [
    "# Splitting the data - 80:20 ratio\n",
    "#x_train,x_test,y_train,y_test=train_test_split(X,y,test_size=0.2,random_state=1)\n",
    "print(\"Training split input- \", x_train.shape)\n",
    "print(\"Testing split input- \", x_test.shape)"
   ]
  },
  {
   "cell_type": "code",
   "execution_count": 57,
   "metadata": {
    "execution": {
     "iopub.execute_input": "2022-03-31T10:32:37.171468Z",
     "iopub.status.busy": "2022-03-31T10:32:37.170640Z",
     "iopub.status.idle": "2022-03-31T10:32:37.190516Z",
     "shell.execute_reply": "2022-03-31T10:32:37.189651Z",
     "shell.execute_reply.started": "2022-03-31T10:32:37.171400Z"
    }
   },
   "outputs": [],
   "source": [
    "# Defining the decision tree algorithmdtree=DecisionTreeClassifier()\n",
    "clf.fit(x_train,y_train)\n",
    "print('Decision Tree Classifier Created')"
   ]
  },
  {
   "cell_type": "code",
   "execution_count": 58,
   "metadata": {
    "execution": {
     "iopub.execute_input": "2022-03-31T10:32:37.192658Z",
     "iopub.status.busy": "2022-03-31T10:32:37.192296Z",
     "iopub.status.idle": "2022-03-31T10:32:37.204222Z",
     "shell.execute_reply": "2022-03-31T10:32:37.203254Z",
     "shell.execute_reply.started": "2022-03-31T10:32:37.192589Z"
    }
   },
   "outputs": [],
   "source": [
    "# Predicting the values of test data\n",
    "from sklearn.metrics import classification_report\n",
    "y_pred = clf.predict(x_test)\n",
    "print(\"Classification report - \\n\", classification_report(y_test,y_pred))"
   ]
  },
  {
   "cell_type": "code",
   "execution_count": 59,
   "metadata": {
    "execution": {
     "iopub.execute_input": "2022-03-31T10:32:37.207172Z",
     "iopub.status.busy": "2022-03-31T10:32:37.205671Z",
     "iopub.status.idle": "2022-03-31T10:32:37.410910Z",
     "shell.execute_reply": "2022-03-31T10:32:37.409606Z",
     "shell.execute_reply.started": "2022-03-31T10:32:37.205954Z"
    }
   },
   "outputs": [],
   "source": [
    "from sklearn.metrics import confusion_matrix\n",
    "cm = confusion_matrix(y_test, y_pred)\n",
    "plt.figure(figsize=(5,5))\n",
    "sns.heatmap(data=cm,linewidths=.5, annot=True,square = True,  cmap = 'Blues')\n",
    "plt.ylabel('Actual label')\n",
    "plt.xlabel('Predicted label')\n",
    "all_sample_title = 'Accuracy Score: {0}'.format(clf.score(x_test, y_test))\n",
    "plt.title(all_sample_title, size = 15)"
   ]
  },
  {
   "cell_type": "markdown",
   "metadata": {},
   "source": [
    "Visualising decision tree "
   ]
  },
  {
   "cell_type": "code",
   "execution_count": 60,
   "metadata": {
    "execution": {
     "iopub.execute_input": "2022-03-31T10:32:37.413248Z",
     "iopub.status.busy": "2022-03-31T10:32:37.412658Z",
     "iopub.status.idle": "2022-03-31T10:32:37.795691Z",
     "shell.execute_reply": "2022-03-31T10:32:37.725946Z",
     "shell.execute_reply.started": "2022-03-31T10:32:37.413175Z"
    }
   },
   "outputs": [],
   "source": [
    "# Visualising the graph without the use of graphvizplt.figure(figsize = (20,20))\n",
    "import pandas as pd\n",
    "import numpy as np\n",
    "import matplotlib.pyplot as plt\n",
    "import seaborn as sns\n",
    "%matplotlib inline\n",
    "from sklearn import tree\n",
    "fig= clf.fit(x_train,y_train)\n",
    "#dec_tree = tree.plot_tree(decision_tree=clf, feature_names = df.columns, \n",
    "                     #class_names =[\"log\", \"l\", \"n\"] , filled = True , precision = 4, rounded = True)\n",
    "tree.plot_tree(fig)\n",
    "plt.show()"
   ]
  },
  {
   "cell_type": "code",
   "execution_count": null,
   "metadata": {
    "_uuid": "4f6cfd04410204f9cb5ddb3b999e41254a07574b",
    "execution": {
     "iopub.status.busy": "2022-03-31T10:32:37.726745Z",
     "iopub.status.idle": "2022-03-31T10:32:37.727373Z"
    }
   },
   "outputs": [],
   "source": [
    "tree_cv_score.mean()"
   ]
  },
  {
   "cell_type": "markdown",
   "metadata": {
    "_uuid": "6c8d5e1115ee7fca76dd63035a4f36be75582b5a"
   },
   "source": [
    "# Logistic Regression"
   ]
  },
  {
   "cell_type": "code",
   "execution_count": null,
   "metadata": {
    "_uuid": "fe0e2be8e61e5f31eda3288de5ab8abdc0571f32",
    "execution": {
     "iopub.status.busy": "2022-03-31T10:32:37.728187Z",
     "iopub.status.idle": "2022-03-31T10:32:37.728712Z"
    }
   },
   "outputs": [],
   "source": [
    "from sklearn.linear_model import LogisticRegression"
   ]
  },
  {
   "cell_type": "code",
   "execution_count": null,
   "metadata": {
    "_uuid": "10feaaec44b456cb8ada403368dea16dbf29cc34",
    "execution": {
     "iopub.status.busy": "2022-03-31T10:32:37.729402Z",
     "iopub.status.idle": "2022-03-31T10:32:37.729919Z"
    }
   },
   "outputs": [],
   "source": [
    "logistic_model = LogisticRegression()"
   ]
  },
  {
   "cell_type": "code",
   "execution_count": null,
   "metadata": {
    "_uuid": "011d7c67ff1f5a883c4e44870c8a67ba96343bbe",
    "execution": {
     "iopub.status.busy": "2022-03-31T10:32:37.730572Z",
     "iopub.status.idle": "2022-03-31T10:32:37.731114Z"
    }
   },
   "outputs": [],
   "source": [
    "logistic_cv_score = cross_val_score(logistic_model,X,y,cv=k_fold,scoring = 'accuracy')*100"
   ]
  },
  {
   "cell_type": "code",
   "execution_count": null,
   "metadata": {
    "_uuid": "f031116d6bf39647add114d957eca1579f4fa8cc",
    "execution": {
     "iopub.status.busy": "2022-03-31T10:32:37.731749Z",
     "iopub.status.idle": "2022-03-31T10:32:37.732279Z"
    }
   },
   "outputs": [],
   "source": [
    "logistic_cv_score"
   ]
  },
  {
   "cell_type": "code",
   "execution_count": null,
   "metadata": {
    "_uuid": "9c2136f54caec3841a833e725f9c03fccbdf8930",
    "execution": {
     "iopub.status.busy": "2022-03-31T10:32:37.732909Z",
     "iopub.status.idle": "2022-03-31T10:32:37.733545Z"
    }
   },
   "outputs": [],
   "source": [
    "logistic_cv_score.mean()"
   ]
  },
  {
   "cell_type": "markdown",
   "metadata": {
    "_uuid": "3eedf579c795f977d400fd55aa586061bba497c8"
   },
   "source": [
    " 86% accuracy"
   ]
  },
  {
   "cell_type": "markdown",
   "metadata": {
    "_uuid": "ec97aef43fb05cce58514735655817857a83b63d"
   },
   "source": [
    "# Implement KNN"
   ]
  },
  {
   "cell_type": "code",
   "execution_count": null,
   "metadata": {
    "_uuid": "187e7b808e5b1f41a1429e16424bd7f506d74e26",
    "execution": {
     "iopub.status.busy": "2022-03-31T10:32:37.734265Z",
     "iopub.status.idle": "2022-03-31T10:32:37.735003Z"
    }
   },
   "outputs": [],
   "source": [
    "from sklearn.neighbors import KNeighborsClassifier"
   ]
  },
  {
   "cell_type": "markdown",
   "metadata": {
    "_uuid": "0d111f846d973c9fe34d15c757f8da1a1b9a5b4f"
   },
   "source": [
    "set the value of k = 1 to 26"
   ]
  },
  {
   "cell_type": "code",
   "execution_count": null,
   "metadata": {
    "_uuid": "c541007b7ceae8cc8b17ec755fc4042fb59cb67d",
    "execution": {
     "iopub.status.busy": "2022-03-31T10:32:37.735714Z",
     "iopub.status.idle": "2022-03-31T10:32:37.736553Z"
    }
   },
   "outputs": [],
   "source": [
    "k_range = range(1,26)\n",
    "scores = []\n",
    "for k in k_range :\n",
    "    KNN = KNeighborsClassifier(n_neighbors=k)\n",
    "    KNN.fit(x_train,y_train)\n",
    "    pred = KNN.predict(x_test)\n",
    "    scores.append(accuracy_score(pred,y_test)*100)\n",
    "    \n",
    "print(pd.DataFrame(scores))"
   ]
  },
  {
   "cell_type": "markdown",
   "metadata": {
    "_uuid": "cc0f78196804adbce76eab2a962d465642b5cf1d"
   },
   "source": [
    "KNN score for train, test split method."
   ]
  },
  {
   "cell_type": "code",
   "execution_count": null,
   "metadata": {
    "_uuid": "1c4d601acdc5ac3410b17f82a1d7ec420dd3440f",
    "execution": {
     "iopub.status.busy": "2022-03-31T10:32:37.737264Z",
     "iopub.status.idle": "2022-03-31T10:32:37.737823Z"
    }
   },
   "outputs": [],
   "source": [
    "plt.plot(k_range,scores)\n",
    "plt.xlabel(\"K for KNN\")\n",
    "plt.ylabel(\"Testing scores\")\n",
    "plt.show()"
   ]
  },
  {
   "cell_type": "markdown",
   "metadata": {
    "_uuid": "572ccaeac47417761fb552cad36a0a613ef6980e"
   },
   "source": [
    "grapch of KNN for each K's value how testing score change"
   ]
  },
  {
   "cell_type": "markdown",
   "metadata": {
    "_uuid": "0bf2869261ef4b7c31e87709138a2960816f5ca1"
   },
   "source": [
    "# KNN with k fold Cross Validation."
   ]
  },
  {
   "cell_type": "code",
   "execution_count": null,
   "metadata": {
    "_uuid": "8e439b5c8040407297ce05fc892cb3848f4e5f73",
    "execution": {
     "iopub.status.busy": "2022-03-31T10:32:37.738967Z",
     "iopub.status.idle": "2022-03-31T10:32:37.739589Z"
    }
   },
   "outputs": [],
   "source": [
    "k_range = range(1,26)\n",
    "scores = []\n",
    "for k in k_range :\n",
    "    KNN = KNeighborsClassifier(n_neighbors=k)\n",
    "    KNN_cv_score = cross_val_score(KNN,X,y,cv=k_fold,scoring = 'accuracy')*100\n",
    "    cv_score = scores.append(KNN_cv_score)\n",
    "    \n",
    "print(pd.DataFrame(scores))"
   ]
  },
  {
   "cell_type": "markdown",
   "metadata": {
    "_uuid": "5dd1cb4e04a47d9acdf8d9ce1928f723df4106fb"
   },
   "source": [
    "KNN cross validation mean score"
   ]
  },
  {
   "cell_type": "code",
   "execution_count": null,
   "metadata": {
    "_uuid": "c1c53ceca957a4ea0f307f3c1fdbfcebb7587ab8",
    "execution": {
     "iopub.status.busy": "2022-03-31T10:32:37.740413Z",
     "iopub.status.idle": "2022-03-31T10:32:37.740921Z"
    }
   },
   "outputs": [],
   "source": [
    "KNN_cv_score.mean()"
   ]
  },
  {
   "cell_type": "markdown",
   "metadata": {
    "_uuid": "070fded015f7c3898d49dc26d2eabddcc389bb49"
   },
   "source": [
    "with cross validion KNN score is 85%"
   ]
  },
  {
   "cell_type": "markdown",
   "metadata": {},
   "source": [
    "# Random Forest\n"
   ]
  },
  {
   "cell_type": "code",
   "execution_count": null,
   "metadata": {
    "_uuid": "39dfcab6bb75f4134dbc53b25a1d5b06330beeee",
    "execution": {
     "iopub.status.busy": "2022-03-31T10:32:37.741734Z",
     "iopub.status.idle": "2022-03-31T10:32:37.742435Z"
    }
   },
   "outputs": [],
   "source": [
    "from sklearn.ensemble import RandomForestClassifier\n",
    "\n",
    "# creating a RF classifier\n",
    "clf = RandomForestClassifier(n_estimators = 100)\n",
    "\n",
    "# Training the model on the training dataset\n",
    "# fit function is used to train the model using the training sets as parameters\n",
    "clf.fit(x_train, y_train)\n",
    "\n",
    "# performing predictions on the test dataset\n",
    "y_pred = clf.predict(x_test)"
   ]
  },
  {
   "cell_type": "code",
   "execution_count": null,
   "metadata": {
    "execution": {
     "iopub.status.busy": "2022-03-31T10:32:37.743309Z",
     "iopub.status.idle": "2022-03-31T10:32:37.743905Z"
    }
   },
   "outputs": [],
   "source": [
    "# metrics are used to find accuracy or error\n",
    "from sklearn import metrics\n",
    "# using metrics module for accuracy calculation\n",
    "print(\"Accuracy of model using Random Forest.:\", metrics.accuracy_score(y_test, y_pred))\n"
   ]
  },
  {
   "cell_type": "code",
   "execution_count": null,
   "metadata": {},
   "outputs": [],
   "source": []
  },
  {
   "cell_type": "code",
   "execution_count": null,
   "metadata": {},
   "outputs": [],
   "source": []
  },
  {
   "cell_type": "code",
   "execution_count": null,
   "metadata": {},
   "outputs": [],
   "source": []
  },
  {
   "cell_type": "code",
   "execution_count": null,
   "metadata": {},
   "outputs": [],
   "source": []
  }
 ],
 "metadata": {
  "kernelspec": {
   "display_name": "Python 3",
   "language": "python",
   "name": "python3"
  },
  "language_info": {
   "codemirror_mode": {
    "name": "ipython",
    "version": 3
   },
   "file_extension": ".py",
   "mimetype": "text/x-python",
   "name": "python",
   "nbconvert_exporter": "python",
   "pygments_lexer": "ipython3",
   "version": "3.6.5"
  }
 },
 "nbformat": 4,
 "nbformat_minor": 4
}
